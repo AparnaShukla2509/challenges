{
 "cells": [
  {
   "cell_type": "markdown",
   "metadata": {},
   "source": [
    "# Mathematical logic\n",
    "\n",
    "> Mathematical logic is a subfield of mathematics exploring the applications of formal logic to mathematics. \n",
    "It bears close connections to metamathematics, the foundations of mathematics, and theoretical computer science.\n",
    "The unifying themes in mathematical logic include the study of the expressive power of formal systems and the \n",
    "deductive power of formal proof systems (https://en.wikipedia.org/wiki/Mathematical_logic).\n",
    "\n",
    "The main goal of this challenge is not going deeply into the Mathematical logic concepts but, instead, provide some \n",
    "mathematical challenges that you can resolve applying some logical approach!\n",
    "\n",
    "Consider the follow problem:\n",
    "\n",
    "$A + B = 72$\n",
    "\n",
    "$B + C = 36$\n",
    "\n",
    "$A + C = 32$\n",
    "\n",
    "$C = ?$\n",
    "\n",
    "What is the value of `C`?\n",
    "\n",
    "Normally, we think about that as a [System of linear equations](https://en.wikipedia.org/wiki/System_of_linear_equations),\n",
    "lets give a try:\n",
    "\n",
    "\n",
    "Assumptions:\n",
    "\n",
    "$A + B = 72$\n",
    "\n",
    "$B + C = 36$\n",
    "\n",
    "$A + C = 32$\n",
    "\n",
    "Resolution:\n",
    "\n",
    "$B + C = A + C + 4$\n",
    "\n",
    "$B - A = 4$\n",
    "\n",
    "$B - (72 - B) = 0 + 4$\n",
    "\n",
    "$2B - 72 = 0 + 4$\n",
    "\n",
    "$B = (4 + 72) / 2$\n",
    "\n",
    "$B = 38$\n",
    "\n",
    "So, lets resolve `A`: \n",
    "\n",
    "$A + B = 72$\n",
    "\n",
    "$A = 72 - 38$\n",
    "\n",
    "$A = 34$\n",
    "\n",
    "And now, we can resolve C:\n",
    "\n",
    "$B + C = 36$\n",
    "\n",
    "$38 + C = 36$\n",
    "\n",
    "$C = 36 - 38$\n",
    "\n",
    "$C = -2$\n",
    "\n",
    "We can also check with the `A + C` equation:\n",
    "\n",
    "$A + C = 32$\n",
    "\n",
    "$34 + (-2) = 32$\n",
    "\n",
    "$32 = 32$\n",
    "\n",
    "If you understand all the (simple) math here, good job! If not, no problem, try again to resolve that by your own!\n",
    "\n",
    "But maybe you are asking if there is a better (faster) way to resolve that, and, of course, there it is!\n",
    "\n",
    "Sometimes using mathematical logic you can `cut` some steps and find a faster way to resolve a problem.\n",
    "\n",
    "So consider the previous problem, what new assumptions we can do?\n",
    "\n",
    "1) $A + B = 72$\n",
    "\n",
    "2) $B + C = 36$\n",
    "\n",
    "3) $A + C = 32$\n",
    "\n",
    "So, what if we combine all the three equations?\n",
    "\n",
    "$B + C + A + C - (A + B) = 36 + 32 - 72$\n",
    "\n",
    "Changing the ordering here, we have:\n",
    "\n",
    "$A - A + B - B + 2C = 36 + 32 - 72$\n",
    "\n",
    "$2C = - 4$\n",
    "\n",
    "$C = -4 / 2$\n",
    "\n",
    "$C = -2$\n",
    "\n",
    "And voilà! It looks faster then before, right?\n",
    "\n",
    "The following code does the same as we did right above (a little bit more simplified):"
   ]
  },
  {
   "cell_type": "code",
   "execution_count": 1,
   "metadata": {},
   "outputs": [
    {
     "data": {
      "text/plain": [
       "-2"
      ]
     },
     "execution_count": 1,
     "metadata": {},
     "output_type": "execute_result"
    }
   ],
   "source": [
    "AB = 72\n",
    "BC = 36\n",
    "AC = 32\n",
    "\n",
    "C = (BC + AC - AB) // 2\n",
    "C"
   ]
  },
  {
   "cell_type": "markdown",
   "metadata": {},
   "source": [
    "And you can check all the equations using the following code:"
   ]
  },
  {
   "cell_type": "code",
   "execution_count": 2,
   "metadata": {},
   "outputs": [],
   "source": [
    "B = 36 - C\n",
    "A = 32 - C\n",
    "assert A + B == AB\n",
    "assert B + C == BC\n",
    "assert A + C == AC"
   ]
  },
  {
   "cell_type": "markdown",
   "metadata": {},
   "source": [
    "This is a simple idea about the mathematical logic topic. Now, in the following there are some challenges that help you to consolidate these concepts! Have fun!"
   ]
  },
  {
   "cell_type": "markdown",
   "metadata": {},
   "source": [
    "## Challenge 4.A"
   ]
  },
  {
   "cell_type": "markdown",
   "metadata": {},
   "source": [
    "## Challenge 4.B"
   ]
  },
  {
   "cell_type": "markdown",
   "metadata": {},
   "source": [
    "## Challenge 4.C"
   ]
  },
  {
   "cell_type": "markdown",
   "metadata": {},
   "source": [
    "## References\n",
    "\n",
    "- https://en.wikipedia.org/wiki/Mathematical_logic\n",
    "- https://en.wikipedia.org/wiki/System_of_linear_equations"
   ]
  }
 ],
 "metadata": {
  "kernelspec": {
   "display_name": "Python 3",
   "language": "python",
   "name": "python3"
  },
  "language_info": {
   "codemirror_mode": {
    "name": "ipython",
    "version": 3
   },
   "file_extension": ".py",
   "mimetype": "text/x-python",
   "name": "python",
   "nbconvert_exporter": "python",
   "pygments_lexer": "ipython3",
   "version": "3.8.5"
  }
 },
 "nbformat": 4,
 "nbformat_minor": 4
}
