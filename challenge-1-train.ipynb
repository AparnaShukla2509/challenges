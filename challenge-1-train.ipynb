{
 "cells": [
  {
   "cell_type": "markdown",
   "metadata": {},
   "source": [
    "# Challenge 1 - Train\n",
    "\n",
    "\n",
    "**Difficulty level**: 0 - beginner\n",
    "\n",
    "**Assumptions**\n",
    "\n",
    "- a 0.1 km long train is going from city A to city B \n",
    "- it is moving at 100 km/h\n",
    "- it needs to cross a 1 km long bridge\n",
    "\n",
    "**Question**\n",
    "\n",
    "how long does it take to fully cross the bridge (from entering the bridge until it is completely off the bridge)."
   ]
  },
  {
   "cell_type": "code",
   "execution_count": null,
   "metadata": {},
   "outputs": [],
   "source": [
    "train_size = 0.1  # km\n",
    "train_speed  = 100  # km/h\n",
    "bridge_size = 1  # km\n",
    "\n",
    "# time to fully cross the bridge\n",
    "\n",
    "distance = ??????  # the trick point\n",
    "print('Distance:', distance, 'km')\n",
    "print('Speed:', train_speed, 'km/h')\n",
    "\n",
    "# time = distance / speed\n",
    "time = ??????\n",
    "\n",
    "print('Time for fully crossing the bridge:', time, 'h')\n",
    "\n",
    "answer = 0.011000000000000001\n",
    "assert time == answer\n"
   ]
  }
 ],
 "metadata": {
  "kernelspec": {
   "display_name": "Python 3",
   "language": "python",
   "name": "python3"
  },
  "language_info": {
   "codemirror_mode": {
    "name": "ipython",
    "version": 3
   },
   "file_extension": ".py",
   "mimetype": "text/x-python",
   "name": "python",
   "nbconvert_exporter": "python",
   "pygments_lexer": "ipython3",
   "version": "3.8.5"
  }
 },
 "nbformat": 4,
 "nbformat_minor": 4
}
